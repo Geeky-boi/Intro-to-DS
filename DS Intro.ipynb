{
 "cells": [
  {
   "cell_type": "markdown",
   "id": "5e85524d",
   "metadata": {},
   "source": [
    "# Data Science Introduction with JupyterLite"
   ]
  },
  {
   "cell_type": "markdown",
   "id": "16b0ec39",
   "metadata": {},
   "source": [
    "## Introduction\n",
    "This notebook introduces the basic concepts of data science and demonstrates the usage of various data science tools. It includes languages, libraries, tools, and simple arithmetic examples to help beginners get started with the data science workflow.\n"
   ]
  },
  {
   "cell_type": "markdown",
   "id": "72de3309",
   "metadata": {},
   "source": [
    "## Data Science Languages\n",
    "- Python\n",
    "- R\n",
    "- SQL\n",
    "- Julia\n",
    "- Java\n"
   ]
  },
  {
   "cell_type": "markdown",
   "id": "50dd9915",
   "metadata": {},
   "source": [
    "## Data Science Libraries\n",
    "- Pandas\n",
    "- NumPy\n",
    "- Scikit-learn\n",
    "- Matplotlib\n",
    "- ggplot2\n"
   ]
  },
  {
   "cell_type": "markdown",
   "id": "1a4a9402",
   "metadata": {},
   "source": [
    "## Data Science Tools\n",
    "\n",
    "| Tool           | Description                              |\n",
    "|----------------|------------------------------------------|\n",
    "| JupyterLite    | A lightweight notebook interface         |\n",
    "| RStudio        | Integrated environment for R programming |\n",
    "| GitHub         | Version control and collaboration tool  |\n",
    "| Tableau        | Data visualization tool                  |\n",
    "| Apache Spark   | Big data processing framework           |\n"
   ]
  },
  {
   "cell_type": "markdown",
   "id": "e5638904",
   "metadata": {},
   "source": [
    "## Arithmetic Expression Examples\n",
    "In this section, we will demonstrate how to perform simple arithmetic operations using Python.\n"
   ]
  },
  {
   "cell_type": "code",
   "execution_count": 3,
   "id": "8f2b0fdb",
   "metadata": {},
   "outputs": [
    {
     "data": {
      "text/plain": [
       "(15, 8)"
      ]
     },
     "execution_count": 3,
     "metadata": {},
     "output_type": "execute_result"
    }
   ],
   "source": [
    "# Multiplication and Addition\n",
    "a = 5\n",
    "b = 3\n",
    "c = a * b  # Multiplication\n",
    "d = a + b  # Addition\n",
    "c, d\n"
   ]
  },
  {
   "cell_type": "code",
   "execution_count": 2,
   "id": "1e5b2e68",
   "metadata": {},
   "outputs": [
    {
     "data": {
      "text/plain": [
       "2.0"
      ]
     },
     "execution_count": 2,
     "metadata": {},
     "output_type": "execute_result"
    }
   ],
   "source": [
    "# Convert minutes to hours\n",
    "minutes = 120\n",
    "hours = minutes / 60\n",
    "hours"
   ]
  },
  {
   "cell_type": "markdown",
   "id": "480d9183",
   "metadata": {},
   "source": [
    "## Objectives\n",
    "- Understand key data science languages\n",
    "- Learn about popular libraries and tools\n",
    "- Perform basic arithmetic operations\n",
    "- Learn how to share a notebook via GitHub\n"
   ]
  },
  {
   "cell_type": "markdown",
   "id": "91b64315",
   "metadata": {},
   "source": [
    "## Author\n",
    "Koushik Rameshbabu\n"
   ]
  },
  {
   "cell_type": "code",
   "execution_count": null,
   "id": "9b5f9722",
   "metadata": {},
   "outputs": [],
   "source": []
  }
 ],
 "metadata": {
  "kernelspec": {
   "display_name": "Python 3 (ipykernel)",
   "language": "python",
   "name": "python3"
  },
  "language_info": {
   "codemirror_mode": {
    "name": "ipython",
    "version": 3
   },
   "file_extension": ".py",
   "mimetype": "text/x-python",
   "name": "python",
   "nbconvert_exporter": "python",
   "pygments_lexer": "ipython3",
   "version": "3.11.5"
  },
  "varInspector": {
   "cols": {
    "lenName": 16,
    "lenType": 16,
    "lenVar": 40
   },
   "kernels_config": {
    "python": {
     "delete_cmd_postfix": "",
     "delete_cmd_prefix": "del ",
     "library": "var_list.py",
     "varRefreshCmd": "print(var_dic_list())"
    },
    "r": {
     "delete_cmd_postfix": ") ",
     "delete_cmd_prefix": "rm(",
     "library": "var_list.r",
     "varRefreshCmd": "cat(var_dic_list()) "
    }
   },
   "types_to_exclude": [
    "module",
    "function",
    "builtin_function_or_method",
    "instance",
    "_Feature"
   ],
   "window_display": false
  }
 },
 "nbformat": 4,
 "nbformat_minor": 5
}
